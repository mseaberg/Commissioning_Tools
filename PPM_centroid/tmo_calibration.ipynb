{
 "cells": [
  {
   "cell_type": "code",
   "execution_count": 3,
   "metadata": {},
   "outputs": [],
   "source": [
    "import numpy as np"
   ]
  },
  {
   "cell_type": "code",
   "execution_count": 5,
   "metadata": {},
   "outputs": [],
   "source": [
    "lambda_ref = 1239.8/870.0*1e-9\n",
    "\n",
    "Ax_inverse = np.zeros((2, 2)) \n",
    "Ax_inverse[:, 0] = np.array([15, -142e6*lambda_ref])\n",
    "Ax_inverse[:, 1] = np.array([23, 115e6*lambda_ref])\n",
    "\n",
    "Ax = np.linalg.inv(Ax_inverse)\n",
    "\n",
    "Ay_inverse = np.zeros((2, 2)) \n",
    "Ay_inverse[:, 0] = np.array([13.3, -120e6*lambda_ref]) \n",
    "Ay_inverse[:, 1] = np.array([16.7, 83e6*lambda_ref])\n",
    "\n",
    "Ay = np.linalg.inv(Ay_inverse)"
   ]
  },
  {
   "cell_type": "code",
   "execution_count": 6,
   "metadata": {},
   "outputs": [
    {
     "data": {
      "text/plain": [
       "array([[ 0.02304147, -3.23376076],\n",
       "       [ 0.02845121,  2.10897441]])"
      ]
     },
     "execution_count": 6,
     "metadata": {},
     "output_type": "execute_result"
    }
   ],
   "source": [
    "Ax"
   ]
  },
  {
   "cell_type": "code",
   "execution_count": 7,
   "metadata": {},
   "outputs": [
    {
     "data": {
      "text/plain": [
       "array([[ 0.02670614, -3.77065723],\n",
       "       [ 0.03861128,  3.00297852]])"
      ]
     },
     "execution_count": 7,
     "metadata": {},
     "output_type": "execute_result"
    }
   ],
   "source": [
    "Ay"
   ]
  },
  {
   "cell_type": "code",
   "execution_count": 8,
   "metadata": {},
   "outputs": [],
   "source": [
    "np.savez('calibration/tmo_IP1.npz',Ax=Ax,Ay=Ay)"
   ]
  },
  {
   "cell_type": "code",
   "execution_count": 9,
   "metadata": {},
   "outputs": [],
   "source": [
    "test = np.load('calibration/tmo_IP1.npz')"
   ]
  },
  {
   "cell_type": "code",
   "execution_count": 12,
   "metadata": {},
   "outputs": [
    {
     "name": "stdout",
     "output_type": "stream",
     "text": [
      "['Ax', 'Ay']\n"
     ]
    }
   ],
   "source": [
    "print(test.files)"
   ]
  },
  {
   "cell_type": "code",
   "execution_count": 13,
   "metadata": {},
   "outputs": [
    {
     "data": {
      "text/plain": [
       "array([[ 0.02304147, -3.23376076],\n",
       "       [ 0.02845121,  2.10897441]])"
      ]
     },
     "execution_count": 13,
     "metadata": {},
     "output_type": "execute_result"
    }
   ],
   "source": [
    "test['Ax']"
   ]
  },
  {
   "cell_type": "code",
   "execution_count": 14,
   "metadata": {},
   "outputs": [
    {
     "data": {
      "text/plain": [
       "array([[ 0.02670614, -3.77065723],\n",
       "       [ 0.03861128,  3.00297852]])"
      ]
     },
     "execution_count": 14,
     "metadata": {},
     "output_type": "execute_result"
    }
   ],
   "source": [
    "test['Ay']"
   ]
  },
  {
   "cell_type": "code",
   "execution_count": null,
   "metadata": {},
   "outputs": [],
   "source": []
  }
 ],
 "metadata": {
  "kernelspec": {
   "display_name": "LCLS-I py3",
   "language": "python",
   "name": "ana1-current-py3"
  },
  "language_info": {
   "codemirror_mode": {
    "name": "ipython",
    "version": 3
   },
   "file_extension": ".py",
   "mimetype": "text/x-python",
   "name": "python",
   "nbconvert_exporter": "python",
   "pygments_lexer": "ipython3",
   "version": "3.7.10"
  }
 },
 "nbformat": 4,
 "nbformat_minor": 2
}
